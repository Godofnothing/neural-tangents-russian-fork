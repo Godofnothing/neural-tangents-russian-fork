{
  "cells": [
    {
      "cell_type": "markdown",
      "metadata": {
        "id": "otnqBdyaYBrf"
      },
      "source": [
        "\u003ca href=\"https://colab.research.google.com/github/google/neural-tangents/blob/main/notebooks/empirical_ntk_fcn.ipynb\" target=\"_parent\"\u003e\u003cimg src=\"https://colab.research.google.com/assets/colab-badge.svg\" alt=\"Open In Colab\"/\u003e\u003c/a\u003e"
      ]
    },
    {
      "cell_type": "markdown",
      "metadata": {
        "id": "nTt0UNQbk_Td"
      },
      "source": [
        "# Example of computing finite width NTK of an FCN on CIFAR-10 inputs"
      ]
    },
    {
      "cell_type": "markdown",
      "metadata": {
        "id": "dvXMUSdFjCqq"
      },
      "source": [
        "Tested on NVIDIA V100 (also with similar performance gains on NVIDIA T4, CPU)."
      ]
    },
    {
      "cell_type": "markdown",
      "metadata": {
        "id": "Sl2JyRE1hK-z"
      },
      "source": [
        "# Imports and setup"
      ]
    },
    {
      "cell_type": "code",
      "execution_count": null,
      "metadata": {
        "executionInfo": {
          "elapsed": 52,
          "status": "ok",
          "timestamp": 1655439457298,
          "user": {
            "displayName": "Roman Novak",
            "userId": "09332964040061052680"
          },
          "user_tz": 420
        },
        "id": "HunkuGjSr63O",
        "outputId": "c39a29e1-8ade-4525-ebdd-e696b882cf9c"
      },
      "outputs": [
        {
          "name": "stdout",
          "output_type": "stream",
          "text": [
            "/bin/sh: line 1: nvidia-smi: command not found\n"
          ]
        }
      ],
      "source": [
        "!nvidia-smi -L"
      ]
    },
    {
      "cell_type": "code",
      "execution_count": null,
      "metadata": {
        "executionInfo": {
          "elapsed": 52,
          "status": "ok",
          "timestamp": 1655439457486,
          "user": {
            "displayName": "Roman Novak",
            "userId": "09332964040061052680"
          },
          "user_tz": 420
        },
        "id": "bmmbCtfh76RS",
        "outputId": "31689c82-619f-408b-ec48-928240195437"
      },
      "outputs": [
        {
          "name": "stdout",
          "output_type": "stream",
          "text": [
            "/bin/sh: line 1: pip: command not found\n",
            "/bin/sh: line 1: pip: command not found\n"
          ]
        }
      ],
      "source": [
        "# We need at least jaxlib-0.1.73 to avoid certain CUDA bugs when using `implementation=auto`\n",
        "!pip install --upgrade pip\n",
        "!pip install jax[cuda11_cudnn805] -f https://storage.googleapis.com/jax-releases/jax_releases.html"
      ]
    },
    {
      "cell_type": "code",
      "execution_count": null,
      "metadata": {
        "id": "qM24rCkDI3F8"
      },
      "outputs": [],
      "source": [
        "from jax import jit\n",
        "from jax import numpy as np\n",
        "from jax import random\n",
        "\n",
        "import neural_tangents as nt\n",
        "from jax.example_libraries import stax"
      ]
    },
    {
      "cell_type": "markdown",
      "metadata": {
        "id": "Tt0rL4ycp4ZB"
      },
      "source": [
        "# Defining a simple FCN model"
      ]
    },
    {
      "cell_type": "code",
      "execution_count": null,
      "metadata": {
        "id": "lPh5LGz9JBK_"
      },
      "outputs": [],
      "source": [
        "def get_ntk_fns(O: int):\n",
        "  # Define an FCN.\n",
        "  init_fn, apply_fn = stax.serial(\n",
        "      stax.Dense(2048),\n",
        "      stax.Relu,\n",
        "      stax.Dense(2048),\n",
        "      stax.Relu,\n",
        "      stax.Dense(2048),\n",
        "      stax.Relu,\n",
        "      stax.Dense(O)\n",
        "  )\n",
        "\n",
        "  kwargs = dict(\n",
        "      f=apply_fn,\n",
        "      trace_axes=(),\n",
        "      vmap_axes=0\n",
        "  )\n",
        "\n",
        "  # Different NTK implementations\n",
        "  jacobian_contraction = jit(nt.empirical_ntk_fn(**kwargs, implementation=1))\n",
        "  ntvp = jit(nt.empirical_ntk_fn(**kwargs, implementation=2))\n",
        "  str_derivatives = jit(nt.empirical_ntk_fn(**kwargs, implementation=3))\n",
        "  auto = jit(nt.empirical_ntk_fn(**kwargs, implementation=0))\n",
        "  \n",
        "  # Parameters \\theta\n",
        "  _, params = init_fn(random.PRNGKey(0), x1.shape)\n",
        "  return params, (jacobian_contraction, ntvp, str_derivatives, auto)"
      ]
    },
    {
      "cell_type": "markdown",
      "metadata": {
        "id": "0lWFC3QEgao4"
      },
      "source": [
        "# Benchmark"
      ]
    },
    {
      "cell_type": "markdown",
      "metadata": {
        "id": "kbExWKkUg9ew"
      },
      "source": [
        "Structured derivatives compute NTK fastest. NTK-vector products also provide a speedup, due to a cheap forward pass relative to parameters size."
      ]
    },
    {
      "cell_type": "code",
      "execution_count": null,
      "metadata": {
        "id": "bwhIZWqxKTlt"
      },
      "outputs": [],
      "source": [
        "O = 8\n",
        "N = 16\n",
        "\n",
        "# Input images x\n",
        "input_shape = (3072,)\n",
        "k1, k2 = random.split(random.PRNGKey(1), 2)\n",
        "x1 = random.normal(k1, (N, *input_shape))\n",
        "x2 = random.normal(k2, (N, *input_shape))\n",
        "\n",
        "params, (ntk_fn_jacobian_contraction, ntk_fn_ntvp, ntk_fn_str_derivatives, ntk_fn_auto) = get_ntk_fns(O=O)"
      ]
    },
    {
      "cell_type": "code",
      "execution_count": null,
      "metadata": {
        "executionInfo": {
          "elapsed": 523,
          "status": "ok",
          "timestamp": 1655439458845,
          "user": {
            "displayName": "Roman Novak",
            "userId": "09332964040061052680"
          },
          "user_tz": 420
        },
        "id": "zObT8WnPggFo",
        "outputId": "2e6f4861-e6f8-4981-873f-7348282a1b27"
      },
      "outputs": [
        {
          "name": "stdout",
          "output_type": "stream",
          "text": [
            "(16, 16, 8, 8)\n"
          ]
        }
      ],
      "source": [
        "# Jacobian contraction\n",
        "k_1 = ntk_fn_jacobian_contraction(x1, x2, params)\n",
        "print(k_1.shape)"
      ]
    },
    {
      "cell_type": "code",
      "execution_count": null,
      "metadata": {
        "executionInfo": {
          "elapsed": 622,
          "status": "ok",
          "timestamp": 1655439459606,
          "user": {
            "displayName": "Roman Novak",
            "userId": "09332964040061052680"
          },
          "user_tz": 420
        },
        "id": "FW9gJJ4qggFp",
        "outputId": "a5f96400-1b04-4ba8-db03-faa2a76febf5"
      },
      "outputs": [
        {
          "name": "stdout",
          "output_type": "stream",
          "text": [
            "(16, 16, 8, 8)\n"
          ]
        }
      ],
      "source": [
        "# NTK-vector products\n",
        "k_2 = ntk_fn_ntvp(x1, x2, params)\n",
        "print(k_2.shape)"
      ]
    },
    {
      "cell_type": "code",
      "execution_count": null,
      "metadata": {
        "executionInfo": {
          "elapsed": 869,
          "status": "ok",
          "timestamp": 1655439460617,
          "user": {
            "displayName": "Roman Novak",
            "userId": "09332964040061052680"
          },
          "user_tz": 420
        },
        "id": "gFeWnqGQggFp",
        "outputId": "ba42622e-c893-4e9f-90b7-db9fda217839"
      },
      "outputs": [
        {
          "name": "stdout",
          "output_type": "stream",
          "text": [
            "(16, 16, 8, 8)\n"
          ]
        }
      ],
      "source": [
        "# Structured derivatives\n",
        "k_3 = ntk_fn_str_derivatives(x1, x2, params)\n",
        "print(k_3.shape)"
      ]
    },
    {
      "cell_type": "code",
      "execution_count": null,
      "metadata": {
        "executionInfo": {
          "elapsed": 58,
          "status": "ok",
          "timestamp": 1655439460826,
          "user": {
            "displayName": "Roman Novak",
            "userId": "09332964040061052680"
          },
          "user_tz": 420
        },
        "id": "Q63v1L1aggFp",
        "outputId": "b8dab746-0d57-40d5-d843-a6c7b2d78c0c"
      },
      "outputs": [
        {
          "name": "stdout",
          "output_type": "stream",
          "text": [
            "3.258046e-06 3.258046e-06 1.629023e-06\n"
          ]
        }
      ],
      "source": [
        "# Make sure kernels agree.\n",
        "print(\n",
        "    np.max(np.abs(k_1 - k_2)) / np.mean(np.abs(k_1)), \n",
        "    np.max(np.abs(k_1 - k_3)) / np.mean(np.abs(k_1)),\n",
        "    np.max(np.abs(k_2 - k_3)) / np.mean(np.abs(k_2))\n",
        ")"
      ]
    },
    {
      "cell_type": "code",
      "execution_count": null,
      "metadata": {
        "executionInfo": {
          "elapsed": 2321,
          "status": "ok",
          "timestamp": 1655439463290,
          "user": {
            "displayName": "Roman Novak",
            "userId": "09332964040061052680"
          },
          "user_tz": 420
        },
        "id": "Ux7AEZ9fggFp",
        "outputId": "edb56217-811f-477a-88fe-d292d7ec2125"
      },
      "outputs": [
        {
          "name": "stdout",
          "output_type": "stream",
          "text": [
            "impl=1, flops=3772416000.0\n",
            "impl=2, flops=1938342016.0\n",
            "impl=3, flops=9715821.0\n",
            "(16, 16, 8, 8)\n"
          ]
        }
      ],
      "source": [
        "# Selects best method based on FLOPs at first call / compilation.\n",
        "# Takes about 3x more time to compile.\n",
        "# WARNING: due to an XLA issue, currently only works correctly on TPUs!\n",
        "# Wrong FLOPs for CPU/GPU of JITted functions.\n",
        "k_0 = ntk_fn_auto(x1, x2, params)\n",
        "print(k_0.shape)"
      ]
    },
    {
      "cell_type": "code",
      "execution_count": null,
      "metadata": {
        "executionInfo": {
          "elapsed": 3854,
          "status": "ok",
          "timestamp": 1655439467286,
          "user": {
            "displayName": "Roman Novak",
            "userId": "09332964040061052680"
          },
          "user_tz": 420
        },
        "id": "diP7nkBuggFp",
        "outputId": "6686c3df-a06b-4768-84d0-8653135f1625"
      },
      "outputs": [
        {
          "name": "stdout",
          "output_type": "stream",
          "text": [
            "10 loops, best of 5: 62.2 ms per loop\n"
          ]
        }
      ],
      "source": [
        "%%timeit\n",
        "ntk_fn_jacobian_contraction(x1, x2, params).block_until_ready()"
      ]
    },
    {
      "cell_type": "code",
      "execution_count": null,
      "metadata": {
        "executionInfo": {
          "elapsed": 1535,
          "status": "ok",
          "timestamp": 1655439468972,
          "user": {
            "displayName": "Roman Novak",
            "userId": "09332964040061052680"
          },
          "user_tz": 420
        },
        "id": "wehCdvi2ggFp",
        "outputId": "7fa77eae-8f25-43bc-84b7-320e60577ff0"
      },
      "outputs": [
        {
          "name": "stdout",
          "output_type": "stream",
          "text": [
            "10 loops, best of 5: 24.8 ms per loop\n"
          ]
        }
      ],
      "source": [
        "%%timeit\n",
        "# 3X faster.\n",
        "ntk_fn_ntvp(x1, x2, params).block_until_ready()  "
      ]
    },
    {
      "cell_type": "code",
      "execution_count": null,
      "metadata": {
        "executionInfo": {
          "elapsed": 6583,
          "status": "ok",
          "timestamp": 1655439475695,
          "user": {
            "displayName": "Roman Novak",
            "userId": "09332964040061052680"
          },
          "user_tz": 420
        },
        "id": "Yrm53akVggFp",
        "outputId": "147fe3d2-ae0f-4a08-ca8f-124c7d0d4e81"
      },
      "outputs": [
        {
          "name": "stdout",
          "output_type": "stream",
          "text": [
            "1000 loops, best of 5: 1.07 ms per loop\n"
          ]
        }
      ],
      "source": [
        "%%timeit\n",
        "# 60X faster.\n",
        "ntk_fn_str_derivatives(x1, x2, params).block_until_ready()"
      ]
    },
    {
      "cell_type": "code",
      "execution_count": null,
      "metadata": {
        "executionInfo": {
          "elapsed": 6568,
          "status": "ok",
          "timestamp": 1655439482396,
          "user": {
            "displayName": "Roman Novak",
            "userId": "09332964040061052680"
          },
          "user_tz": 420
        },
        "id": "P1QtkBqLggFp",
        "outputId": "3b127725-3ab8-49ac-d1c5-f44a87dd98d4"
      },
      "outputs": [
        {
          "name": "stdout",
          "output_type": "stream",
          "text": [
            "1000 loops, best of 5: 1.07 ms per loop\n"
          ]
        }
      ],
      "source": [
        "%%timeit \n",
        "# On TPU should match the fastest method.\n",
        "# On GPU/CPU, currently is broken, and may not be the fastest.\n",
        "ntk_fn_auto(x1, x2, params).block_until_ready()"
      ]
    }
  ],
  "metadata": {
    "colab": {
      "collapsed_sections": [],
      "last_runtime": {
        "build_target": "//learning/deepmind/public/tools/ml_python:ml_notebook",
        "kind": "private"
      },
      "name": "empirical_ntk_fcn.ipynb",
      "provenance": [
        {
          "file_id": "19BhT0vMzkX7q07p_zYZQHgVXKigfWNO8",
          "timestamp": 1655442076432
        }
      ],
      "toc_visible": true
    },
    "kernelspec": {
      "display_name": "Python 3",
      "name": "python3"
    },
    "language_info": {
      "name": "python"
    }
  },
  "nbformat": 4,
  "nbformat_minor": 0
}
